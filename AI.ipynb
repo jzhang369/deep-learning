{
  "nbformat": 4,
  "nbformat_minor": 0,
  "metadata": {
    "colab": {
      "provenance": [],
      "authorship_tag": "ABX9TyNGRlRLTU7kQUO919Y9DcGP",
      "include_colab_link": true
    },
    "kernelspec": {
      "name": "python3",
      "display_name": "Python 3"
    },
    "language_info": {
      "name": "python"
    }
  },
  "cells": [
    {
      "cell_type": "markdown",
      "metadata": {
        "id": "view-in-github",
        "colab_type": "text"
      },
      "source": [
        "<a href=\"https://colab.research.google.com/github/jzhang369/deep-learning/blob/main/AI.ipynb\" target=\"_parent\"><img src=\"https://colab.research.google.com/assets/colab-badge.svg\" alt=\"Open In Colab\"/></a>"
      ]
    },
    {
      "cell_type": "markdown",
      "source": [
        "# Objective Functions\n",
        "\n",
        "Objective Functions -> Loss Functions \n",
        "\n",
        "+ Predict numeric values -> squared error -> differentiability -> easy to optimize \n",
        "+ Classification -> error rate -> non-differentiability -> difficult to optimize\n",
        "\n",
        "Learning Process: \n",
        "\n",
        "+ During optimization, we think of the loss as a function of the model’s parameters, and treat the training dataset as a constant. \n",
        "+ We learn the best values of our model’s parameters by minimizing the loss incurred on a set consisting of some number of examples collected for training. \n",
        "+ Use test data to prevent overfitting. \n",
        "\n",
        "# Optimization Algorithms\n",
        "\n",
        "Gradient descent. \n",
        "\n",
        "![](https://miro.medium.com/max/1400/1*GTRi-Y2doXbbrc4lGJYH-w.png)\n",
        "+ The objective is to find $\\theta_i$ that will minimize the objective function $J$. \n",
        "+ In machine learning, $J$ here is for the loss function. "
      ],
      "metadata": {
        "id": "YwsHkqQea-vV"
      }
    }
  ]
}