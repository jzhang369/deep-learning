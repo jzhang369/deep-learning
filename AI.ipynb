{
  "nbformat": 4,
  "nbformat_minor": 0,
  "metadata": {
    "colab": {
      "provenance": [],
      "authorship_tag": "ABX9TyOymtMwYBCsiI++LTwaSYWq",
      "include_colab_link": true
    },
    "kernelspec": {
      "name": "python3",
      "display_name": "Python 3"
    },
    "language_info": {
      "name": "python"
    }
  },
  "cells": [
    {
      "cell_type": "markdown",
      "metadata": {
        "id": "view-in-github",
        "colab_type": "text"
      },
      "source": [
        "<a href=\"https://colab.research.google.com/github/jzhang369/deep-learning/blob/main/AI.ipynb\" target=\"_parent\"><img src=\"https://colab.research.google.com/assets/colab-badge.svg\" alt=\"Open In Colab\"/></a>"
      ]
    },
    {
      "cell_type": "code",
      "execution_count": 11,
      "metadata": {
        "colab": {
          "base_uri": "https://localhost:8080/"
        },
        "id": "8SaZSKb2YMPU",
        "outputId": "b17eb441-f9fd-4d0d-9a9f-97e549ee86e8"
      },
      "outputs": [
        {
          "output_type": "stream",
          "name": "stdout",
          "text": [
            "b\"\\x18\\xff\\x18'\\x02`\\xc6\\x81\\x1d\\xfd\"\n"
          ]
        }
      ],
      "source": [
        "import random\n",
        "with open(\"/dev/urandom\", \"rb\") as f:\n",
        "  print(repr(f.read(10)))"
      ]
    },
    {
      "cell_type": "markdown",
      "source": [
        "# Test\n",
        "![This is a picture](https://miro.medium.com/max/1400/1*GTRi-Y2doXbbrc4lGJYH-w.png)"
      ],
      "metadata": {
        "id": "4N31RtBuYuLB"
      }
    }
  ]
}