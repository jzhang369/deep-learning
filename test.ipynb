{
 "cells": [
  {
   "cell_type": "code",
   "execution_count": 1,
   "metadata": {},
   "outputs": [],
   "source": [
    "from spektral.transforms import Degree\n",
    "print(\"This is a test\")"
   ]
  }
 ],
 "metadata": {
  "kernelspec": {
   "display_name": "spektralEnv",
   "language": "python",
   "name": "python3"
  },
  "language_info": {
   "codemirror_mode": {
    "name": "ipython",
    "version": 3
   },
   "file_extension": ".py",
   "mimetype": "text/x-python",
   "name": "python",
   "nbconvert_exporter": "python",
   "pygments_lexer": "ipython3",
   "version": "3.10.8"
  },
  "orig_nbformat": 4,
  "vscode": {
   "interpreter": {
    "hash": "29f6ce3c6919f9976c58ea2c4b3bdb65319fb89047abf1f942c81052285495e1"
   }
  }
 },
 "nbformat": 4,
 "nbformat_minor": 2
}
